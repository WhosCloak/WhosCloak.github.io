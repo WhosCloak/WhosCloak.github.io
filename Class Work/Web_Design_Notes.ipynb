{
 "cells": [
  {
   "cell_type": "markdown",
   "metadata": {},
   "source": [
    "**Week 1**\n",
    "\n",
    "Elements are series of an opening tag, content and a closing tag.\n",
    "\n",
    "H1 - H6: Biggest to smallest Heading size.\n",
    "\n",
    "Breakline = < br >\n",
    "\n",
    "p = paragraph\n",
    "\n",
    "div> = opening nest\n",
    "< /div > = closing tag\n",
    "\n",
    "This is used for every html = \n",
    "< !DOCTYPE html >\n",
    "< html > = opening\n",
    "some\n",
    "code\n",
    "in \n",
    "between\n",
    "< /html > = closing"
   ]
  },
  {
   "cell_type": "markdown",
   "metadata": {},
   "source": [
    "**Week 2**\n",
    "\n",
    "< em >  = Italic text\n",
    "\n",
    "< strong > = Bold text\n",
    "\n",
    "< hr/ > = horizontal line\n",
    "\n",
    "< sub > =  Subscript text, the small 2 in H2O\n",
    "< sup > = Superscript text, the power number in math\n",
    "\n",
    "< blockquote > = to indent a quote\n",
    "\n",
    "< blockquote cite=\"https:www.website.com\"> = to cite a website\n",
    "\n",
    "< abbr > = Abbreviation\n",
    "\n",
    "< acronym > NASA but full name\n",
    "\n",
    "< cite > = italic again\n",
    "\n",
    "< adress > = italic again again\n",
    "\n",
    "< del > and < ins > = delete strike through, insert underlines, they are used together\n",
    "\n",
    "< s > = strikethrough again\n",
    "\n"
   ]
  },
  {
   "cell_type": "markdown",
   "metadata": {},
   "source": [
    "\n",
    "**Non-Semantic Tags**\n",
    "\n",
    "<b> — Bold text\n",
    "<i> — Italic text\n",
    "<u> — Underlined text\n",
    "<s> — Strike-through text\n",
    "<br/> — Line break\n",
    "<hr/> — Horizontal rule\n",
    "\n",
    "**Semantic Tags**\n",
    "\n",
    "<strong> — Strong importance (bold)\n",
    "<em> — Emphasized text (italic)\n",
    "<sup> — Superscript text\n",
    "<sub> — Subscript text\n",
    "<blockquote> — Block-level quotation\n",
    "<q> — Inline quotation\n",
    "<abbr> — Abbreviation (e.g., <abbr title=\"HyperText Markup Language\">HTML</abbr>)\n",
    "<cite> — Citation for creative works\n",
    "<dfn> — Definition of a term (e.g., <dfn title=\"Web Development\">Dev</dfn>)\n",
    "<address> — Contact information\n",
    "<ins> — Inserted text (underline)\n",
    "<del> — Deleted text (strike-through)\n"
   ]
  },
  {
   "cell_type": "markdown",
   "metadata": {},
   "source": [
    "**Week 4**\n",
    "<!-- Ctrl + Slash to comment -->\n",
    "\n",
    "jpg = is compressed and loads faster but low quality\n",
    "\n",
    "png = loads slow but good quality\n",
    "\n",
    "gif = compressed more than jpg \n",
    "\n",
    "<figure>\n",
    "        <img src=\"Images/dog.jpg\" alt=\"a dog\" width=\"200\" height=\"200\"/>\n",
    "        <figcaption>This is another dog.</figcaption>\n",
    "</figure>\n",
    "\n",
    "../ = to exit the folder "
   ]
  }
 ],
 "metadata": {
  "language_info": {
   "name": "python"
  }
 },
 "nbformat": 4,
 "nbformat_minor": 2
}
